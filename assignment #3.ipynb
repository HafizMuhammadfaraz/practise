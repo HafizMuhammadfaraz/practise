{
 "cells": [
  {
   "cell_type": "code",
   "execution_count": null,
   "metadata": {},
   "outputs": [],
   "source": [
    "val1 = input('Enter first number ') \n",
    "val2 = input('Enter second number ')   \n",
    "operator = input('operator')\n",
    "val1 = int(val1)\n",
    "val2 = int(val2)\n",
    "\n",
    "if operator == '+':\n",
    "    val = val1, + val2\n",
    "    print(val1, 'answer') \n",
    "  \n",
    " elif operator == '-': \n",
    "    val = val1, - val2\n",
    "    print(val1, 'answer') \n",
    "  \n",
    " elif operator == '*': \n",
    "    val = val1, * val2 \n",
    "    print(val1, 'answer')\n",
    "  \n",
    " elif operator == '/': \n",
    "    val = val1, / val2\n",
    "    print(val1, 'answer')\n",
    "else: \n",
    "    print('Enter correct operator')\n",
    "    \n",
    "      \n",
    "        \n",
    "    \n"
   ]
  },
  {
   "cell_type": "code",
   "execution_count": null,
   "metadata": {},
   "outputs": [],
   "source": [
    "print(\"Python script to add a key to a dictionary\")\n",
    "d = {0:10, 1:20}  \n",
    "print(d)  \n",
    "d.update({2:30})  \n",
    "print(d)  "
   ]
  },
  {
   "cell_type": "code",
   "execution_count": null,
   "metadata": {},
   "outputs": [],
   "source": [
    "print (\"Python program to sum all the numeric items in a dictionary\") \n",
    " \n",
    "def returnSum(myDict): \n",
    "\n",
    "sum = 0\n",
    "    for i in myDict: \n",
    "        sum = sum + myDict[i] \n",
    "    \n",
    "    return sum\n",
    "\n",
    "dict = {'a': 100, 'b':200, 'c':300} \n",
    "print(\"Sum :\", returnSum(dict)) "
   ]
  },
  {
   "cell_type": "code",
   "execution_count": null,
   "metadata": {},
   "outputs": [],
   "source": [
    "print (\"Python script to check if a given key already exists in a dictionary\") \n",
    " \n",
    "d = {1: 10, 2: 20, 3: 30, 4: 40, 5: 50, 6: 60}\n",
    "def is_key_present(x):\n",
    "  if x in d:\n",
    "      print('Key is present in the dictionary')\n",
    "  else:\n",
    "      print('Key is not present in the dictionary')\n",
    "is_key_present(5)\n",
    "is_key_present(9) "
   ]
  }
 ],
 "metadata": {
  "kernelspec": {
   "display_name": "Python 3",
   "language": "python",
   "name": "python3"
  },
  "language_info": {
   "codemirror_mode": {
    "name": "ipython",
    "version": 3
   },
   "file_extension": ".py",
   "mimetype": "text/x-python",
   "name": "python",
   "nbconvert_exporter": "python",
   "pygments_lexer": "ipython3",
   "version": "3.7.4"
  }
 },
 "nbformat": 4,
 "nbformat_minor": 2
}
