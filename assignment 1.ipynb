{
 "cells": [
  {
   "cell_type": "code",
   "execution_count": null,
   "metadata": {},
   "outputs": [],
   "source": [
    "print(\"Twinkle, twinkle, little star,\\n\")\n",
    "print(\"\\tHow I wonder what you are!\\n\")\n",
    "print(\"\\t\\tUp above the world so high,\\n\")\n",
    "print(\"\\t\\tLike a diamond in the sky.\\n\")\n",
    "print(\"Twinkle, twinkle, little star,\\n\")\n",
    "print(\"\\tHow I wonder what you are\\n\")\n"
   ]
  },
  {
   "cell_type": "code",
   "execution_count": null,
   "metadata": {},
   "outputs": [],
   "source": [
    "print(\"Your Python version is = 3.7\")\n"
   ]
  },
  {
   "cell_type": "code",
   "execution_count": null,
   "metadata": {},
   "outputs": [],
   "source": [
    "import datetime\n",
    "print(datetime.datetime.now())"
   ]
  },
  {
   "cell_type": "code",
   "execution_count": null,
   "metadata": {},
   "outputs": [],
   "source": [
    "pi = 3.14\n",
    "r = float(input('Enter Radius: '))\n",
    "a = pi * r * r\n",
    "print(\" Area Of a Circle =\")\n",
    "print(a);"
   ]
  },
  {
   "cell_type": "code",
   "execution_count": null,
   "metadata": {},
   "outputs": [],
   "source": [
    "fName = input('Please Enter Your First Name : ')\n",
    "lName = input('Please Enter Your Last Name : ')\n",
    "print( lName + \" \" + fName);\n"
   ]
  },
  {
   "cell_type": "code",
   "execution_count": null,
   "metadata": {},
   "outputs": [],
   "source": [
    "input1 = int(input('Please First Number : '))\n",
    "input2 = int(input('Please Second Number : '))\n",
    "total = input1 + input2\n",
    "\n",
    "print(\"Your Total is\")\n",
    "print(total)\n"
   ]
  },
  {
   "cell_type": "code",
   "execution_count": null,
   "metadata": {},
   "outputs": [],
   "source": []
  }
 ],
 "metadata": {
  "kernelspec": {
   "display_name": "Python 3",
   "language": "python",
   "name": "python3"
  },
  "language_info": {
   "codemirror_mode": {
    "name": "ipython",
    "version": 3
   },
   "file_extension": ".py",
   "mimetype": "text/x-python",
   "name": "python",
   "nbconvert_exporter": "python",
   "pygments_lexer": "ipython3",
   "version": "3.7.4"
  }
 },
 "nbformat": 4,
 "nbformat_minor": 2
}
